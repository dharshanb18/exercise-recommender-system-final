{
  "nbformat": 4,
  "nbformat_minor": 0,
  "metadata": {
    "colab": {
      "provenance": []
    },
    "kernelspec": {
      "name": "python3",
      "display_name": "Python 3"
    },
    "language_info": {
      "name": "python"
    }
  },
  "cells": [
    {
      "cell_type": "code",
      "execution_count": 1,
      "metadata": {
        "id": "_chpwNndiL6X"
      },
      "outputs": [],
      "source": [
        "import pathlib\n",
        "import textwrap\n",
        "import google.generativeai as genai\n",
        "from IPython.display import display, Markdown\n",
        "\n",
        "# Function to evaluate a sentence and extract score and remark\n",
        "def evaluate_sentence(sentence):\n",
        "    print(\"exercise on vocabulary\")\n",
        "    genai.configure(api_key=\"your key\")\n",
        "\n",
        "    prompt = f\"This is my sentence: '{sentence}'. I need a score out of 100 and a remark, just a few words like 'suggest this word can be this word'. in the format score:<just the score like 50,70>, remark:<remark>\"\n",
        "\n",
        "    model = genai.GenerativeModel('gemini-1.5-flash-latest')\n",
        "    response = model.generate_content(prompt)\n",
        "    response_text = response.text\n",
        "    print(\"response\", response_text)\n",
        "\n",
        "    score = None\n",
        "    remark = None\n",
        "    #we need to extract score and remark from response\n",
        "    if 'score:' in response_text.lower():\n",
        "        score = response_text.split('score:')[-1].strip().split()[0].rstrip(',')\n",
        "\n",
        "    if 'remark:' in response_text.lower():\n",
        "        remark = response_text.split('remark:')[-1].strip()\n",
        "\n",
        "    print(f\"Score: {score}\")\n",
        "    print(f\"Remark: {remark}\")\n",
        "\n",
        "    return score, remark\n"
      ]
    },
    {
      "cell_type": "code",
      "source": [
        "sentence = input(\"Enter a sentence: \")\n",
        "score, remark = evaluate_sentence(sentence)\n",
        "\n",
        "print(f\"Score: {score}\")\n",
        "print(f\"Remark: {remark}\")"
      ],
      "metadata": {
        "colab": {
          "base_uri": "https://localhost:8080/",
          "height": 208
        },
        "id": "n0p4Lsy5ifiF",
        "outputId": "fd8e3777-a247-4646-9950-a51bb82ebeff"
      },
      "execution_count": 2,
      "outputs": [
        {
          "output_type": "stream",
          "name": "stdout",
          "text": [
            "Enter a sentence: I am a fabulous person who believes in hard work\n",
            "exercise on vocabulary\n",
            "response Score: 75\n",
            "Remark: Suggest \"fabulous\" be replaced with \"dedicated\". \n",
            "\n",
            "Score: Score:\n",
            "Remark: Score: 75\n",
            "Remark: Suggest \"fabulous\" be replaced with \"dedicated\".\n",
            "Score: Score:\n",
            "Remark: Score: 75\n",
            "Remark: Suggest \"fabulous\" be replaced with \"dedicated\".\n"
          ]
        }
      ]
    },
    {
      "cell_type": "code",
      "source": [],
      "metadata": {
        "id": "ITtBQHNfjbVM"
      },
      "execution_count": null,
      "outputs": []
    }
  ]
}
{
  "nbformat": 4,
  "nbformat_minor": 0,
  "metadata": {
    "colab": {
      "provenance": []
    },
    "kernelspec": {
      "name": "python3",
      "display_name": "Python 3"
    },
    "language_info": {
      "name": "python"
    }
  },
  "cells": [
    {
      "cell_type": "code",
      "source": [
        "!pip install SpeechRecognition pydub"
      ],
      "metadata": {
        "colab": {
          "base_uri": "https://localhost:8080/"
        },
        "id": "8yA3R5n42fKx",
        "outputId": "f917ad48-113b-484e-c007-5226363fb608"
      },
      "execution_count": null,
      "outputs": [
        {
          "output_type": "stream",
          "name": "stdout",
          "text": [
            "Collecting SpeechRecognition\n",
            "  Downloading SpeechRecognition-3.10.4-py2.py3-none-any.whl.metadata (28 kB)\n",
            "Collecting pydub\n",
            "  Downloading pydub-0.25.1-py2.py3-none-any.whl.metadata (1.4 kB)\n",
            "Requirement already satisfied: requests>=2.26.0 in /usr/local/lib/python3.10/dist-packages (from SpeechRecognition) (2.32.3)\n",
            "Requirement already satisfied: typing-extensions in /usr/local/lib/python3.10/dist-packages (from SpeechRecognition) (4.12.2)\n",
            "Requirement already satisfied: charset-normalizer<4,>=2 in /usr/local/lib/python3.10/dist-packages (from requests>=2.26.0->SpeechRecognition) (3.3.2)\n",
            "Requirement already satisfied: idna<4,>=2.5 in /usr/local/lib/python3.10/dist-packages (from requests>=2.26.0->SpeechRecognition) (3.10)\n",
            "Requirement already satisfied: urllib3<3,>=1.21.1 in /usr/local/lib/python3.10/dist-packages (from requests>=2.26.0->SpeechRecognition) (2.2.3)\n",
            "Requirement already satisfied: certifi>=2017.4.17 in /usr/local/lib/python3.10/dist-packages (from requests>=2.26.0->SpeechRecognition) (2024.8.30)\n",
            "Downloading SpeechRecognition-3.10.4-py2.py3-none-any.whl (32.8 MB)\n",
            "\u001b[2K   \u001b[90m━━━━━━━━━━━━━━━━━━━━━━━━━━━━━━━━━━━━━━━━\u001b[0m \u001b[32m32.8/32.8 MB\u001b[0m \u001b[31m53.9 MB/s\u001b[0m eta \u001b[36m0:00:00\u001b[0m\n",
            "\u001b[?25hDownloading pydub-0.25.1-py2.py3-none-any.whl (32 kB)\n",
            "Installing collected packages: pydub, SpeechRecognition\n",
            "Successfully installed SpeechRecognition-3.10.4 pydub-0.25.1\n"
          ]
        }
      ]
    },
    {
      "cell_type": "code",
      "execution_count": null,
      "metadata": {
        "colab": {
          "base_uri": "https://localhost:8080/"
        },
        "id": "kyNu5sHr2PSR",
        "outputId": "08be4962-4b85-40c6-c339-69e0613e5d71"
      },
      "outputs": [
        {
          "output_type": "stream",
          "name": "stdout",
          "text": [
            "Number of pauses: 2\n",
            "Pause durations (start, end in seconds): [(0.0, 1.053), (2.669, 3.721)]\n"
          ]
        }
      ],
      "source": [
        "import speech_recognition as sr\n",
        "from pydub import AudioSegment\n",
        "from pydub.silence import detect_silence\n",
        "\n",
        "def analyze_audio_pauses(audio_file):\n",
        "    audio = AudioSegment.from_file(audio_file)\n",
        "\n",
        "    # Detect silence\n",
        "    silence_threshold = -50\n",
        "    silence_duration_ms = 700\n",
        "    silences = detect_silence(audio, min_silence_len=silence_duration_ms, silence_thresh=silence_threshold)\n",
        "\n",
        "    # Calculate number of pauses\n",
        "    pause_count = len(silences)\n",
        "\n",
        "    # Display silence durations (optional)\n",
        "    pause_durations = [(start / 1000, end / 1000) for start, end in silences]  # Convert to seconds\n",
        "\n",
        "    return pause_count, pause_durations\n",
        "\n",
        "def transcribe_audio(audio_file):\n",
        "    recognizer = sr.Recognizer()\n",
        "    with sr.AudioFile(audio_file) as source:\n",
        "        audio_data = recognizer.record(source)\n",
        "        try:\n",
        "            # Recognize speech using Google's API\n",
        "            text = recognizer.recognize_google(audio_data)\n",
        "        except sr.UnknownValueError:\n",
        "            text = \"Could not understand audio\"\n",
        "        except sr.RequestError:\n",
        "            text = \"Request error with Google Speech API\"\n",
        "        return text\n",
        "\n",
        "audio_file_path = \"/content/2.m4a\"\n",
        "\n",
        "pause_count, pause_durations = analyze_audio_pauses(audio_file_path)\n",
        "print(f\"Number of pauses: {pause_count}\")\n",
        "print(f\"Pause durations (start, end in seconds): {pause_durations}\")\n",
        "\n",
        "\n"
      ]
    },
    {
      "cell_type": "code",
      "source": [
        "import speech_recognition as sr\n",
        "from pydub import AudioSegment\n",
        "from pydub.silence import detect_silence\n",
        "\n",
        "def analyze_audio_pauses(audio_file):\n",
        "    # Load audio file using pydub\n",
        "    audio = AudioSegment.from_file(audio_file)\n",
        "\n",
        "    # Detect silence\n",
        "    silence_threshold = -50  # Adjust based on noise level\n",
        "    silence_duration_ms = 700  # Minimum length of pause in ms\n",
        "    silences = detect_silence(audio, min_silence_len=silence_duration_ms, silence_thresh=silence_threshold)\n",
        "\n",
        "    # Calculate number of pauses\n",
        "    pause_count = len(silences)\n",
        "\n",
        "    # Display silence durations (optional)\n",
        "    pause_durations = [(start / 1000, end / 1000) for start, end in silences]  # Convert to seconds\n",
        "\n",
        "    return pause_count, pause_durations\n",
        "\n",
        "def transcribe_audio(audio_file):\n",
        "    recognizer = sr.Recognizer()\n",
        "    with sr.AudioFile(audio_file) as source:\n",
        "        audio_data = recognizer.record(source)\n",
        "        try:\n",
        "            # Recognize speech using Google's API\n",
        "            text = recognizer.recognize_google(audio_data)\n",
        "        except sr.UnknownValueError:\n",
        "            text = \"Could not understand audio\"\n",
        "        except sr.RequestError:\n",
        "            text = \"Request error with Google Speech API\"\n",
        "        return text\n",
        "\n",
        "def calculate_score(pause_count, sentence):\n",
        "    word_count = len(sentence.split())\n",
        "\n",
        "    if word_count == 0:\n",
        "        return 0\n",
        "\n",
        "\n",
        "    if pause_count == 0:\n",
        "        return 100\n",
        "    elif pause_count == 1:\n",
        "        return 90\n",
        "    elif pause_count == 2:\n",
        "        return max(75, 100 - (pause_count * 10) - (word_count // 5))\n",
        "    else:\n",
        "        return max(0, 100 - (pause_count * 10) - (word_count // 5))\n",
        "\n",
        "audio_file_path = \"/content/2.m4a\"\n",
        "\n",
        "pause_count, pause_durations = analyze_audio_pauses(audio_file_path)\n",
        "print(f\"Number of pauses: {pause_count}\")\n",
        "print(f\"Pause durations (start, end in seconds): {pause_durations}\")\n",
        "\n",
        "sentence=\"this will give us a idea of overall well being of the human nation\"\n",
        "\n",
        "score = calculate_score(pause_count, sentence)\n",
        "print(f\"Score: {score}/100\")\n"
      ],
      "metadata": {
        "colab": {
          "base_uri": "https://localhost:8080/"
        },
        "id": "MAc7ziRhoiVN",
        "outputId": "b734d222-6e8e-497f-dab2-e039cd2b8c08"
      },
      "execution_count": null,
      "outputs": [
        {
          "output_type": "stream",
          "name": "stdout",
          "text": [
            "Number of pauses: 2\n",
            "Pause durations (start, end in seconds): [(0.0, 1.053), (2.669, 3.721)]\n",
            "Score: 78/100\n"
          ]
        }
      ]
    }
  ]
}